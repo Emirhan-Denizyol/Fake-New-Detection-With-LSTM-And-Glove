{
  "cells": [
    {
      "cell_type": "code",
      "execution_count": 26,
      "metadata": {
        "id": "EPYGZjguub7Q"
      },
      "outputs": [],
      "source": [
        "import pandas as pd\n",
        "import re\n",
        "import nltk\n",
        "from nltk.corpus import stopwords\n",
        "from bs4 import BeautifulSoup\n",
        "import numpy as np\n",
        "import matplotlib.pyplot as plt\n",
        "from tensorflow.keras.preprocessing.text import Tokenizer\n",
        "from keras.preprocessing.sequence import pad_sequences\n",
        "from keras.models import Sequential, load_model\n",
        "from keras.layers import Flatten, GlobalMaxPool1D, Embedding, Conv1D, LSTM, Activation, Dropout, Dense\n",
        "from sklearn.model_selection import train_test_split\n",
        "from keras.callbacks import EarlyStopping"
      ]
    },
    {
      "cell_type": "code",
      "execution_count": 2,
      "metadata": {
        "colab": {
          "base_uri": "https://localhost:8080/"
        },
        "id": "YLvVVBRxu-bQ",
        "outputId": "748f6e18-e487-49c5-af58-f897fcb4ee85"
      },
      "outputs": [
        {
          "output_type": "stream",
          "name": "stderr",
          "text": [
            "[nltk_data] Downloading package stopwords to /root/nltk_data...\n",
            "[nltk_data]   Package stopwords is already up-to-date!\n"
          ]
        }
      ],
      "source": [
        "pd.set_option(\"display.max_columns\", None)\n",
        "pd.set_option(\"display.max_rows\", None)\n",
        "pd.set_option(\"display.width\", 500)\n",
        "pd.set_option(\"display.float_format\", lambda x: '%.3f' % x)\n",
        "\n",
        "# Stopwords\n",
        "nltk.download('stopwords')\n",
        "stop_words = stopwords.words('english')"
      ]
    },
    {
      "cell_type": "code",
      "execution_count": 3,
      "metadata": {
        "id": "L2p1-keIuSTx"
      },
      "outputs": [],
      "source": [
        "def load_dateset(path):\n",
        "    return pd.read_csv(path)"
      ]
    },
    {
      "cell_type": "code",
      "execution_count": 4,
      "metadata": {
        "id": "-cTeXSGougFW"
      },
      "outputs": [],
      "source": [
        "df_true = load_dateset(\"/content/drive/MyDrive/Fake_News/True.csv\")\n",
        "\n",
        "df_fake = load_dateset(\"/content/drive/MyDrive/Fake_News/Fake.csv\")"
      ]
    },
    {
      "cell_type": "code",
      "execution_count": 5,
      "metadata": {
        "id": "XVnbGxJwuoz9"
      },
      "outputs": [],
      "source": [
        "def merge_dataframes(df_true, df_fake):\n",
        "    def prepare_df(df, column_name):\n",
        "        def split_text(text):\n",
        "            parts = text.split(\"- \")\n",
        "            if len(parts) > 1:\n",
        "                return parts[1]\n",
        "            else:\n",
        "                return text\n",
        "\n",
        "        df[column_name] = df[column_name].apply(split_text)\n",
        "        return df\n",
        "\n",
        "    df_true = prepare_df(df_true, 'text')\n",
        "    df_fake['status'] = 0\n",
        "    df_true['status'] = 1\n",
        "    merged_df = pd.concat([df_true, df_fake], ignore_index=True)\n",
        "    merged_df['target'] = merged_df['title'] + ' ' + merged_df['text']\n",
        "    merged_df.drop(['title', 'text', 'subject', 'date'], axis=1, inplace=True)\n",
        "    return merged_df"
      ]
    },
    {
      "cell_type": "code",
      "execution_count": 6,
      "metadata": {
        "id": "pIullXK9utkb"
      },
      "outputs": [],
      "source": [
        "df = merge_dataframes(df_true, df_fake)"
      ]
    },
    {
      "cell_type": "code",
      "execution_count": 7,
      "metadata": {
        "colab": {
          "base_uri": "https://localhost:8080/",
          "height": 206
        },
        "id": "N7Gl0d0duvnZ",
        "outputId": "ab3cf6c4-60ec-4c88-b46a-c2103b948eb7"
      },
      "outputs": [
        {
          "output_type": "execute_result",
          "data": {
            "text/plain": [
              "   status                                             target\n",
              "0       1  As U.S. budget fight looms, Republicans flip t...\n",
              "1       1  U.S. military to accept transgender recruits o...\n",
              "2       1  Senior U.S. Republican senator: 'Let Mr. Muell...\n",
              "3       1  FBI Russia probe helped by Australian diplomat...\n",
              "4       1  Trump wants Postal Service to charge 'much mor..."
            ],
            "text/html": [
              "\n",
              "  <div id=\"df-872d7977-c1de-48bc-b5f9-a1f8916145f7\" class=\"colab-df-container\">\n",
              "    <div>\n",
              "<style scoped>\n",
              "    .dataframe tbody tr th:only-of-type {\n",
              "        vertical-align: middle;\n",
              "    }\n",
              "\n",
              "    .dataframe tbody tr th {\n",
              "        vertical-align: top;\n",
              "    }\n",
              "\n",
              "    .dataframe thead th {\n",
              "        text-align: right;\n",
              "    }\n",
              "</style>\n",
              "<table border=\"1\" class=\"dataframe\">\n",
              "  <thead>\n",
              "    <tr style=\"text-align: right;\">\n",
              "      <th></th>\n",
              "      <th>status</th>\n",
              "      <th>target</th>\n",
              "    </tr>\n",
              "  </thead>\n",
              "  <tbody>\n",
              "    <tr>\n",
              "      <th>0</th>\n",
              "      <td>1</td>\n",
              "      <td>As U.S. budget fight looms, Republicans flip t...</td>\n",
              "    </tr>\n",
              "    <tr>\n",
              "      <th>1</th>\n",
              "      <td>1</td>\n",
              "      <td>U.S. military to accept transgender recruits o...</td>\n",
              "    </tr>\n",
              "    <tr>\n",
              "      <th>2</th>\n",
              "      <td>1</td>\n",
              "      <td>Senior U.S. Republican senator: 'Let Mr. Muell...</td>\n",
              "    </tr>\n",
              "    <tr>\n",
              "      <th>3</th>\n",
              "      <td>1</td>\n",
              "      <td>FBI Russia probe helped by Australian diplomat...</td>\n",
              "    </tr>\n",
              "    <tr>\n",
              "      <th>4</th>\n",
              "      <td>1</td>\n",
              "      <td>Trump wants Postal Service to charge 'much mor...</td>\n",
              "    </tr>\n",
              "  </tbody>\n",
              "</table>\n",
              "</div>\n",
              "    <div class=\"colab-df-buttons\">\n",
              "\n",
              "  <div class=\"colab-df-container\">\n",
              "    <button class=\"colab-df-convert\" onclick=\"convertToInteractive('df-872d7977-c1de-48bc-b5f9-a1f8916145f7')\"\n",
              "            title=\"Convert this dataframe to an interactive table.\"\n",
              "            style=\"display:none;\">\n",
              "\n",
              "  <svg xmlns=\"http://www.w3.org/2000/svg\" height=\"24px\" viewBox=\"0 -960 960 960\">\n",
              "    <path d=\"M120-120v-720h720v720H120Zm60-500h600v-160H180v160Zm220 220h160v-160H400v160Zm0 220h160v-160H400v160ZM180-400h160v-160H180v160Zm440 0h160v-160H620v160ZM180-180h160v-160H180v160Zm440 0h160v-160H620v160Z\"/>\n",
              "  </svg>\n",
              "    </button>\n",
              "\n",
              "  <style>\n",
              "    .colab-df-container {\n",
              "      display:flex;\n",
              "      gap: 12px;\n",
              "    }\n",
              "\n",
              "    .colab-df-convert {\n",
              "      background-color: #E8F0FE;\n",
              "      border: none;\n",
              "      border-radius: 50%;\n",
              "      cursor: pointer;\n",
              "      display: none;\n",
              "      fill: #1967D2;\n",
              "      height: 32px;\n",
              "      padding: 0 0 0 0;\n",
              "      width: 32px;\n",
              "    }\n",
              "\n",
              "    .colab-df-convert:hover {\n",
              "      background-color: #E2EBFA;\n",
              "      box-shadow: 0px 1px 2px rgba(60, 64, 67, 0.3), 0px 1px 3px 1px rgba(60, 64, 67, 0.15);\n",
              "      fill: #174EA6;\n",
              "    }\n",
              "\n",
              "    .colab-df-buttons div {\n",
              "      margin-bottom: 4px;\n",
              "    }\n",
              "\n",
              "    [theme=dark] .colab-df-convert {\n",
              "      background-color: #3B4455;\n",
              "      fill: #D2E3FC;\n",
              "    }\n",
              "\n",
              "    [theme=dark] .colab-df-convert:hover {\n",
              "      background-color: #434B5C;\n",
              "      box-shadow: 0px 1px 3px 1px rgba(0, 0, 0, 0.15);\n",
              "      filter: drop-shadow(0px 1px 2px rgba(0, 0, 0, 0.3));\n",
              "      fill: #FFFFFF;\n",
              "    }\n",
              "  </style>\n",
              "\n",
              "    <script>\n",
              "      const buttonEl =\n",
              "        document.querySelector('#df-872d7977-c1de-48bc-b5f9-a1f8916145f7 button.colab-df-convert');\n",
              "      buttonEl.style.display =\n",
              "        google.colab.kernel.accessAllowed ? 'block' : 'none';\n",
              "\n",
              "      async function convertToInteractive(key) {\n",
              "        const element = document.querySelector('#df-872d7977-c1de-48bc-b5f9-a1f8916145f7');\n",
              "        const dataTable =\n",
              "          await google.colab.kernel.invokeFunction('convertToInteractive',\n",
              "                                                    [key], {});\n",
              "        if (!dataTable) return;\n",
              "\n",
              "        const docLinkHtml = 'Like what you see? Visit the ' +\n",
              "          '<a target=\"_blank\" href=https://colab.research.google.com/notebooks/data_table.ipynb>data table notebook</a>'\n",
              "          + ' to learn more about interactive tables.';\n",
              "        element.innerHTML = '';\n",
              "        dataTable['output_type'] = 'display_data';\n",
              "        await google.colab.output.renderOutput(dataTable, element);\n",
              "        const docLink = document.createElement('div');\n",
              "        docLink.innerHTML = docLinkHtml;\n",
              "        element.appendChild(docLink);\n",
              "      }\n",
              "    </script>\n",
              "  </div>\n",
              "\n",
              "\n",
              "<div id=\"df-e75790e6-563b-466e-a4e6-42d67db6b4cb\">\n",
              "  <button class=\"colab-df-quickchart\" onclick=\"quickchart('df-e75790e6-563b-466e-a4e6-42d67db6b4cb')\"\n",
              "            title=\"Suggest charts\"\n",
              "            style=\"display:none;\">\n",
              "\n",
              "<svg xmlns=\"http://www.w3.org/2000/svg\" height=\"24px\"viewBox=\"0 0 24 24\"\n",
              "     width=\"24px\">\n",
              "    <g>\n",
              "        <path d=\"M19 3H5c-1.1 0-2 .9-2 2v14c0 1.1.9 2 2 2h14c1.1 0 2-.9 2-2V5c0-1.1-.9-2-2-2zM9 17H7v-7h2v7zm4 0h-2V7h2v10zm4 0h-2v-4h2v4z\"/>\n",
              "    </g>\n",
              "</svg>\n",
              "  </button>\n",
              "\n",
              "<style>\n",
              "  .colab-df-quickchart {\n",
              "      --bg-color: #E8F0FE;\n",
              "      --fill-color: #1967D2;\n",
              "      --hover-bg-color: #E2EBFA;\n",
              "      --hover-fill-color: #174EA6;\n",
              "      --disabled-fill-color: #AAA;\n",
              "      --disabled-bg-color: #DDD;\n",
              "  }\n",
              "\n",
              "  [theme=dark] .colab-df-quickchart {\n",
              "      --bg-color: #3B4455;\n",
              "      --fill-color: #D2E3FC;\n",
              "      --hover-bg-color: #434B5C;\n",
              "      --hover-fill-color: #FFFFFF;\n",
              "      --disabled-bg-color: #3B4455;\n",
              "      --disabled-fill-color: #666;\n",
              "  }\n",
              "\n",
              "  .colab-df-quickchart {\n",
              "    background-color: var(--bg-color);\n",
              "    border: none;\n",
              "    border-radius: 50%;\n",
              "    cursor: pointer;\n",
              "    display: none;\n",
              "    fill: var(--fill-color);\n",
              "    height: 32px;\n",
              "    padding: 0;\n",
              "    width: 32px;\n",
              "  }\n",
              "\n",
              "  .colab-df-quickchart:hover {\n",
              "    background-color: var(--hover-bg-color);\n",
              "    box-shadow: 0 1px 2px rgba(60, 64, 67, 0.3), 0 1px 3px 1px rgba(60, 64, 67, 0.15);\n",
              "    fill: var(--button-hover-fill-color);\n",
              "  }\n",
              "\n",
              "  .colab-df-quickchart-complete:disabled,\n",
              "  .colab-df-quickchart-complete:disabled:hover {\n",
              "    background-color: var(--disabled-bg-color);\n",
              "    fill: var(--disabled-fill-color);\n",
              "    box-shadow: none;\n",
              "  }\n",
              "\n",
              "  .colab-df-spinner {\n",
              "    border: 2px solid var(--fill-color);\n",
              "    border-color: transparent;\n",
              "    border-bottom-color: var(--fill-color);\n",
              "    animation:\n",
              "      spin 1s steps(1) infinite;\n",
              "  }\n",
              "\n",
              "  @keyframes spin {\n",
              "    0% {\n",
              "      border-color: transparent;\n",
              "      border-bottom-color: var(--fill-color);\n",
              "      border-left-color: var(--fill-color);\n",
              "    }\n",
              "    20% {\n",
              "      border-color: transparent;\n",
              "      border-left-color: var(--fill-color);\n",
              "      border-top-color: var(--fill-color);\n",
              "    }\n",
              "    30% {\n",
              "      border-color: transparent;\n",
              "      border-left-color: var(--fill-color);\n",
              "      border-top-color: var(--fill-color);\n",
              "      border-right-color: var(--fill-color);\n",
              "    }\n",
              "    40% {\n",
              "      border-color: transparent;\n",
              "      border-right-color: var(--fill-color);\n",
              "      border-top-color: var(--fill-color);\n",
              "    }\n",
              "    60% {\n",
              "      border-color: transparent;\n",
              "      border-right-color: var(--fill-color);\n",
              "    }\n",
              "    80% {\n",
              "      border-color: transparent;\n",
              "      border-right-color: var(--fill-color);\n",
              "      border-bottom-color: var(--fill-color);\n",
              "    }\n",
              "    90% {\n",
              "      border-color: transparent;\n",
              "      border-bottom-color: var(--fill-color);\n",
              "    }\n",
              "  }\n",
              "</style>\n",
              "\n",
              "  <script>\n",
              "    async function quickchart(key) {\n",
              "      const quickchartButtonEl =\n",
              "        document.querySelector('#' + key + ' button');\n",
              "      quickchartButtonEl.disabled = true;  // To prevent multiple clicks.\n",
              "      quickchartButtonEl.classList.add('colab-df-spinner');\n",
              "      try {\n",
              "        const charts = await google.colab.kernel.invokeFunction(\n",
              "            'suggestCharts', [key], {});\n",
              "      } catch (error) {\n",
              "        console.error('Error during call to suggestCharts:', error);\n",
              "      }\n",
              "      quickchartButtonEl.classList.remove('colab-df-spinner');\n",
              "      quickchartButtonEl.classList.add('colab-df-quickchart-complete');\n",
              "    }\n",
              "    (() => {\n",
              "      let quickchartButtonEl =\n",
              "        document.querySelector('#df-e75790e6-563b-466e-a4e6-42d67db6b4cb button');\n",
              "      quickchartButtonEl.style.display =\n",
              "        google.colab.kernel.accessAllowed ? 'block' : 'none';\n",
              "    })();\n",
              "  </script>\n",
              "</div>\n",
              "\n",
              "    </div>\n",
              "  </div>\n"
            ],
            "application/vnd.google.colaboratory.intrinsic+json": {
              "type": "dataframe",
              "variable_name": "df",
              "summary": "{\n  \"name\": \"df\",\n  \"rows\": 44898,\n  \"fields\": [\n    {\n      \"column\": \"status\",\n      \"properties\": {\n        \"dtype\": \"number\",\n        \"std\": 0,\n        \"min\": 0,\n        \"max\": 1,\n        \"num_unique_values\": 2,\n        \"samples\": [\n          0,\n          1\n        ],\n        \"semantic_type\": \"\",\n        \"description\": \"\"\n      }\n    },\n    {\n      \"column\": \"target\",\n      \"properties\": {\n        \"dtype\": \"string\",\n        \"num_unique_values\": 39100,\n        \"samples\": [\n          \"Trump White House will not make visitor logs public, break from Obama policy The Trump administration will not make public White House visitor logs, the records that detail who has visited President Donald Trump and his staff on official business, his office confirmed, in a departure from a practice that was established under former President Barack Obama.  White House Communications Director Michael Dubke said in a statement on Friday that \\u201cthe grave national security risks and privacy concerns of the hundreds of thousands of visitors annually\\u201d was the reason for keeping the records secret. Transparency advocates had praised Obama\\u2019s decision to release the logs, although his administration argued the disclosure was not required by law but instead was voluntary. As a result, Obama\\u2019s team frequently redacted names from the list of visitors that were released to the public, including celebrities and donors who were sighted on the White House grounds. The logs offer the most comprehensive look at who has access to the president and his team. Examining the logs provides insight into which interests are lobbying the White House and who may have more influence in the administration. Trump has continued the Obama policy of not allowing administration staffers to become lobbyists after leaving their government job, a rule that carries no enforcement mechanism and that they have already waived for one staffer. The announcement that the logs would remain secret quickly drew criticism from watchdog groups. \\u201cElected officials work for the people and we deserve to see government business conducted in transparent daylight,\\u201d Faiz Shakir, political director of the American Civil Liberties Union, said in a statement. \\u201cThe only reasonable conclusion is to believe the Trump administration has many things it is trying to hide.\\u201dDuring the Obama administration, conservative watchdog groups sued the Secret Service, which maintains the records, in an attempt to make unredacted copies publicly available. After Trump took office, a liberal watchdog group has taken over the fight, filing a lawsuit on Monday demanding the records.  Separately, Democrats in Congress have filed legislation to force the administration to release visitor logs from Mar-A-Largo, the president\\u2019s Palm Beach estate where he has spent most weekends since becoming president. The legislation is unlikely to gain any traction because Republicans control the legislative body.     \",\n          \"Under Trump, future of U.S. nuclear arsenal slowly taking shape About 70 feet (21 m) below ground, in a shielded military capsule that can launch nuclear missiles, 23-year-old 2nd Lieutenant Tia Hewuse is concerned that Americans have the mistaken impression that her mission is a gloomy one. \\u201cAmerica doesn\\u2019t understand what we do,\\u201d says Hewuse, whose post sits below a tiny U.S. base surrounded by vast expanses of windswept North Dakota farmland.    \\u201cThis is what keeps our enemies at bay,\\u201d she says with a smile. Hewuse is one of the U.S. Air Force missileers who met Defense Secretary Jim Mattis on Wednesday as he oversees a Pentagon review of America\\u2019s aging nuclear arsenal. Experts say it could cost a trillion dollars or more to modernize it. Critics of the intercontinental ballistic missiles have argued that the silos scattered across thousands of square miles of the upper Great Plains are sitting ducks in a war and that, given the costs of modernizing ICBMs, the United States should spend its money on weaponry that could better survive a first strike by an enemy. Mattis himself questioned in 2015 whether the three legs of America\\u2019s nuclear \\u201ctriad\\u201d of ballistic missile submarines, bombers and land-based missiles should perhaps be reduced to a \\u201cdyad.\\u201d  But in the latest sign that places like Hewuse\\u2019s Cold War-era missile alert facility will be around for years to come, Mattis said on Wednesday he believed all three portions of the triad were vital. \\u201cI have been persuaded that the triad, in its framework, is the right way to go,\\u201d Mattis told reporters traveling with him to Minot Air Force Base, where he got a firsthand look at U.S.  land-based nuclear missile facilities and nuclear-capable bombers. Mattis declined to set a deadline for the review, which is expected to take months to complete. Mattis\\u2019 tour of America\\u2019s doomsday weaponry comes as President Donald Trump uses bellicose rhetoric about the \\u201cfire and fury\\u201d that could await North Korea, should it choose to attack the United States. North Korea has responded with similarly bellicose warnings after it staged its sixth and largest nuclear test this month. In July, Pyongyang tested an ICBM that experts believe was capable of reaching most of the United States.  U.S. officials have also noted that America\\u2019s nuclear modernization is lagging behind Russia\\u2019s upgrade of its own nuclear triad.  General Paul Selva, vice chairman of the Joint Chiefs of Staff, told Congress in August he believed Moscow was already two-thirds through its nuclear modernization process. The Arms Control Association estimates that the total cost of upgrading the U.S. nuclear forces will be between $1.25 trillion and $1.46 trillion over the next 30 years.  Mattis, without offering a figure, suggested that nuclear deterrence was worth the investment.  \\u201cAmerica can afford survival,\\u201d he said.   Mattis says his goal would be to ensure that an adversary concludes that there is no viable prospect for successfully attacking the United States and surviving.  \\u201cWe want the enemy to look at it and say this is impossible,\\u201d he said.  The land-based, nuclear-capable missiles are a big part of that. The U.S. forces who staff these facilities near the U.S. border with Canada have to endure bitter cold in the winters, which can get so bad that missileers can be stuck in their posts for up to 72 hours, officials said. Officials says morale has improved since the nuclear forces were rocked by test-cheating and drug scandals under the Obama administration and a 2007 incident under the Bush administration, when the Air Force accidentally flew live nuclear weapons between Minot and another U.S. base. Hewuse uses her free time to study for a postgraduate degree in entrepreneurship. She has also brightened her capsule by painting the lock used to keep nuclear missile launch keys shut in a cabinet above her head.  She painted the lock gold, with sparkles.  \\u201cI\\u2019m a pretty sparkly person,\\u201d she said. \\u201cThere\\u2019s no sunshine in here. So that\\u2019s my sunshine.\\u201d \"\n        ],\n        \"semantic_type\": \"\",\n        \"description\": \"\"\n      }\n    }\n  ]\n}"
            }
          },
          "metadata": {},
          "execution_count": 7
        }
      ],
      "source": [
        "df.head()"
      ]
    },
    {
      "cell_type": "code",
      "execution_count": 8,
      "metadata": {
        "id": "SiDC7wKguxYA"
      },
      "outputs": [],
      "source": [
        "def clean_text(dataframe, column):\n",
        "    # Convert to lowercase\n",
        "    dataframe[column] = dataframe[column].str.lower()\n",
        "\n",
        "    # Remove Special Character\n",
        "    dataframe[column] = dataframe[column].apply(lambda x: re.sub(r'[^A-Za-zğüşıöçĞÜŞİÖÇa-z0-9\\s]+', '', x))\n",
        "\n",
        "    # Remove Punctuation\n",
        "    dataframe[column] = dataframe[column].apply(lambda x: re.sub(r'[^\\w\\s]', '', x))\n",
        "\n",
        "    # Remove Numerical Values\n",
        "    dataframe[column] = dataframe[column].apply(lambda x: re.sub(r'\\d+', '', x))\n",
        "\n",
        "    # Remove Extra Spaces\n",
        "    dataframe[column] = dataframe[column].apply(lambda x: re.sub(r'\\s+', ' ', x.strip()))\n",
        "\n",
        "    # Remove the HTML Tags\n",
        "    dataframe[column] = dataframe[column].apply(lambda x: BeautifulSoup(x, \"html.parser\").get_text())\n",
        "\n",
        "    #Remove the Square Brackets\n",
        "    dataframe[column] = dataframe[column].apply(lambda x: re.sub(r'\\[[^]]*\\]', '', x))\n",
        "\n",
        "    # Remove URL's\n",
        "    dataframe[column] = dataframe[column].apply(lambda x: re.sub(r'http\\S+', '', x))\n",
        "\n",
        "    # Remove Stopwords\n",
        "    dataframe[column] = dataframe[column].apply(lambda x: ' '.join(x for x in str(x).split() if x not in stop_words))\n",
        "\n",
        "    # Remove Rarewords\n",
        "    # Sözcük frekanslarını hesaplayın\n",
        "    word_counts = dataframe[column].str.split(expand=True).stack().value_counts()\n",
        "\n",
        "    # Nadir kelimeleri belirleyin (frekans sınırlamasına göre)\n",
        "    rare_words = word_counts[word_counts < 500].index\n",
        "\n",
        "    # Nadir kelimeleri içermeyen dataframe\n",
        "    dataframe[column] = dataframe[column].apply(lambda x: ' '.join([word for word in x.split() if word not in rare_words]))\n",
        "\n",
        "    return dataframe"
      ]
    },
    {
      "cell_type": "code",
      "execution_count": 9,
      "metadata": {
        "id": "54cIkEEDu1Gb"
      },
      "outputs": [],
      "source": [
        "df = clean_text(df, 'target')"
      ]
    },
    {
      "cell_type": "code",
      "execution_count": 10,
      "metadata": {
        "colab": {
          "base_uri": "https://localhost:8080/",
          "height": 206
        },
        "id": "y_NZP6gmu2u5",
        "outputId": "cd886b1c-cc51-4fc6-bae3-5b1c3ba0edb9"
      },
      "outputs": [
        {
          "output_type": "execute_result",
          "data": {
            "text/plain": [
              "   status                                             target\n",
              "0       1  us budget fight republicans fiscal head conser...\n",
              "1       1  us military accept transgender monday pentagon...\n",
              "2       1  senior us republican senator let mr mueller jo...\n",
              "3       1  fbi russia probe helped australian diplomat tr...\n",
              "4       1  trump wants service charge much president dona..."
            ],
            "text/html": [
              "\n",
              "  <div id=\"df-83f8753e-edd5-4806-8b23-087d8276c980\" class=\"colab-df-container\">\n",
              "    <div>\n",
              "<style scoped>\n",
              "    .dataframe tbody tr th:only-of-type {\n",
              "        vertical-align: middle;\n",
              "    }\n",
              "\n",
              "    .dataframe tbody tr th {\n",
              "        vertical-align: top;\n",
              "    }\n",
              "\n",
              "    .dataframe thead th {\n",
              "        text-align: right;\n",
              "    }\n",
              "</style>\n",
              "<table border=\"1\" class=\"dataframe\">\n",
              "  <thead>\n",
              "    <tr style=\"text-align: right;\">\n",
              "      <th></th>\n",
              "      <th>status</th>\n",
              "      <th>target</th>\n",
              "    </tr>\n",
              "  </thead>\n",
              "  <tbody>\n",
              "    <tr>\n",
              "      <th>0</th>\n",
              "      <td>1</td>\n",
              "      <td>us budget fight republicans fiscal head conser...</td>\n",
              "    </tr>\n",
              "    <tr>\n",
              "      <th>1</th>\n",
              "      <td>1</td>\n",
              "      <td>us military accept transgender monday pentagon...</td>\n",
              "    </tr>\n",
              "    <tr>\n",
              "      <th>2</th>\n",
              "      <td>1</td>\n",
              "      <td>senior us republican senator let mr mueller jo...</td>\n",
              "    </tr>\n",
              "    <tr>\n",
              "      <th>3</th>\n",
              "      <td>1</td>\n",
              "      <td>fbi russia probe helped australian diplomat tr...</td>\n",
              "    </tr>\n",
              "    <tr>\n",
              "      <th>4</th>\n",
              "      <td>1</td>\n",
              "      <td>trump wants service charge much president dona...</td>\n",
              "    </tr>\n",
              "  </tbody>\n",
              "</table>\n",
              "</div>\n",
              "    <div class=\"colab-df-buttons\">\n",
              "\n",
              "  <div class=\"colab-df-container\">\n",
              "    <button class=\"colab-df-convert\" onclick=\"convertToInteractive('df-83f8753e-edd5-4806-8b23-087d8276c980')\"\n",
              "            title=\"Convert this dataframe to an interactive table.\"\n",
              "            style=\"display:none;\">\n",
              "\n",
              "  <svg xmlns=\"http://www.w3.org/2000/svg\" height=\"24px\" viewBox=\"0 -960 960 960\">\n",
              "    <path d=\"M120-120v-720h720v720H120Zm60-500h600v-160H180v160Zm220 220h160v-160H400v160Zm0 220h160v-160H400v160ZM180-400h160v-160H180v160Zm440 0h160v-160H620v160ZM180-180h160v-160H180v160Zm440 0h160v-160H620v160Z\"/>\n",
              "  </svg>\n",
              "    </button>\n",
              "\n",
              "  <style>\n",
              "    .colab-df-container {\n",
              "      display:flex;\n",
              "      gap: 12px;\n",
              "    }\n",
              "\n",
              "    .colab-df-convert {\n",
              "      background-color: #E8F0FE;\n",
              "      border: none;\n",
              "      border-radius: 50%;\n",
              "      cursor: pointer;\n",
              "      display: none;\n",
              "      fill: #1967D2;\n",
              "      height: 32px;\n",
              "      padding: 0 0 0 0;\n",
              "      width: 32px;\n",
              "    }\n",
              "\n",
              "    .colab-df-convert:hover {\n",
              "      background-color: #E2EBFA;\n",
              "      box-shadow: 0px 1px 2px rgba(60, 64, 67, 0.3), 0px 1px 3px 1px rgba(60, 64, 67, 0.15);\n",
              "      fill: #174EA6;\n",
              "    }\n",
              "\n",
              "    .colab-df-buttons div {\n",
              "      margin-bottom: 4px;\n",
              "    }\n",
              "\n",
              "    [theme=dark] .colab-df-convert {\n",
              "      background-color: #3B4455;\n",
              "      fill: #D2E3FC;\n",
              "    }\n",
              "\n",
              "    [theme=dark] .colab-df-convert:hover {\n",
              "      background-color: #434B5C;\n",
              "      box-shadow: 0px 1px 3px 1px rgba(0, 0, 0, 0.15);\n",
              "      filter: drop-shadow(0px 1px 2px rgba(0, 0, 0, 0.3));\n",
              "      fill: #FFFFFF;\n",
              "    }\n",
              "  </style>\n",
              "\n",
              "    <script>\n",
              "      const buttonEl =\n",
              "        document.querySelector('#df-83f8753e-edd5-4806-8b23-087d8276c980 button.colab-df-convert');\n",
              "      buttonEl.style.display =\n",
              "        google.colab.kernel.accessAllowed ? 'block' : 'none';\n",
              "\n",
              "      async function convertToInteractive(key) {\n",
              "        const element = document.querySelector('#df-83f8753e-edd5-4806-8b23-087d8276c980');\n",
              "        const dataTable =\n",
              "          await google.colab.kernel.invokeFunction('convertToInteractive',\n",
              "                                                    [key], {});\n",
              "        if (!dataTable) return;\n",
              "\n",
              "        const docLinkHtml = 'Like what you see? Visit the ' +\n",
              "          '<a target=\"_blank\" href=https://colab.research.google.com/notebooks/data_table.ipynb>data table notebook</a>'\n",
              "          + ' to learn more about interactive tables.';\n",
              "        element.innerHTML = '';\n",
              "        dataTable['output_type'] = 'display_data';\n",
              "        await google.colab.output.renderOutput(dataTable, element);\n",
              "        const docLink = document.createElement('div');\n",
              "        docLink.innerHTML = docLinkHtml;\n",
              "        element.appendChild(docLink);\n",
              "      }\n",
              "    </script>\n",
              "  </div>\n",
              "\n",
              "\n",
              "<div id=\"df-9c1501cc-2b9f-4143-b8b6-3e140f0c0425\">\n",
              "  <button class=\"colab-df-quickchart\" onclick=\"quickchart('df-9c1501cc-2b9f-4143-b8b6-3e140f0c0425')\"\n",
              "            title=\"Suggest charts\"\n",
              "            style=\"display:none;\">\n",
              "\n",
              "<svg xmlns=\"http://www.w3.org/2000/svg\" height=\"24px\"viewBox=\"0 0 24 24\"\n",
              "     width=\"24px\">\n",
              "    <g>\n",
              "        <path d=\"M19 3H5c-1.1 0-2 .9-2 2v14c0 1.1.9 2 2 2h14c1.1 0 2-.9 2-2V5c0-1.1-.9-2-2-2zM9 17H7v-7h2v7zm4 0h-2V7h2v10zm4 0h-2v-4h2v4z\"/>\n",
              "    </g>\n",
              "</svg>\n",
              "  </button>\n",
              "\n",
              "<style>\n",
              "  .colab-df-quickchart {\n",
              "      --bg-color: #E8F0FE;\n",
              "      --fill-color: #1967D2;\n",
              "      --hover-bg-color: #E2EBFA;\n",
              "      --hover-fill-color: #174EA6;\n",
              "      --disabled-fill-color: #AAA;\n",
              "      --disabled-bg-color: #DDD;\n",
              "  }\n",
              "\n",
              "  [theme=dark] .colab-df-quickchart {\n",
              "      --bg-color: #3B4455;\n",
              "      --fill-color: #D2E3FC;\n",
              "      --hover-bg-color: #434B5C;\n",
              "      --hover-fill-color: #FFFFFF;\n",
              "      --disabled-bg-color: #3B4455;\n",
              "      --disabled-fill-color: #666;\n",
              "  }\n",
              "\n",
              "  .colab-df-quickchart {\n",
              "    background-color: var(--bg-color);\n",
              "    border: none;\n",
              "    border-radius: 50%;\n",
              "    cursor: pointer;\n",
              "    display: none;\n",
              "    fill: var(--fill-color);\n",
              "    height: 32px;\n",
              "    padding: 0;\n",
              "    width: 32px;\n",
              "  }\n",
              "\n",
              "  .colab-df-quickchart:hover {\n",
              "    background-color: var(--hover-bg-color);\n",
              "    box-shadow: 0 1px 2px rgba(60, 64, 67, 0.3), 0 1px 3px 1px rgba(60, 64, 67, 0.15);\n",
              "    fill: var(--button-hover-fill-color);\n",
              "  }\n",
              "\n",
              "  .colab-df-quickchart-complete:disabled,\n",
              "  .colab-df-quickchart-complete:disabled:hover {\n",
              "    background-color: var(--disabled-bg-color);\n",
              "    fill: var(--disabled-fill-color);\n",
              "    box-shadow: none;\n",
              "  }\n",
              "\n",
              "  .colab-df-spinner {\n",
              "    border: 2px solid var(--fill-color);\n",
              "    border-color: transparent;\n",
              "    border-bottom-color: var(--fill-color);\n",
              "    animation:\n",
              "      spin 1s steps(1) infinite;\n",
              "  }\n",
              "\n",
              "  @keyframes spin {\n",
              "    0% {\n",
              "      border-color: transparent;\n",
              "      border-bottom-color: var(--fill-color);\n",
              "      border-left-color: var(--fill-color);\n",
              "    }\n",
              "    20% {\n",
              "      border-color: transparent;\n",
              "      border-left-color: var(--fill-color);\n",
              "      border-top-color: var(--fill-color);\n",
              "    }\n",
              "    30% {\n",
              "      border-color: transparent;\n",
              "      border-left-color: var(--fill-color);\n",
              "      border-top-color: var(--fill-color);\n",
              "      border-right-color: var(--fill-color);\n",
              "    }\n",
              "    40% {\n",
              "      border-color: transparent;\n",
              "      border-right-color: var(--fill-color);\n",
              "      border-top-color: var(--fill-color);\n",
              "    }\n",
              "    60% {\n",
              "      border-color: transparent;\n",
              "      border-right-color: var(--fill-color);\n",
              "    }\n",
              "    80% {\n",
              "      border-color: transparent;\n",
              "      border-right-color: var(--fill-color);\n",
              "      border-bottom-color: var(--fill-color);\n",
              "    }\n",
              "    90% {\n",
              "      border-color: transparent;\n",
              "      border-bottom-color: var(--fill-color);\n",
              "    }\n",
              "  }\n",
              "</style>\n",
              "\n",
              "  <script>\n",
              "    async function quickchart(key) {\n",
              "      const quickchartButtonEl =\n",
              "        document.querySelector('#' + key + ' button');\n",
              "      quickchartButtonEl.disabled = true;  // To prevent multiple clicks.\n",
              "      quickchartButtonEl.classList.add('colab-df-spinner');\n",
              "      try {\n",
              "        const charts = await google.colab.kernel.invokeFunction(\n",
              "            'suggestCharts', [key], {});\n",
              "      } catch (error) {\n",
              "        console.error('Error during call to suggestCharts:', error);\n",
              "      }\n",
              "      quickchartButtonEl.classList.remove('colab-df-spinner');\n",
              "      quickchartButtonEl.classList.add('colab-df-quickchart-complete');\n",
              "    }\n",
              "    (() => {\n",
              "      let quickchartButtonEl =\n",
              "        document.querySelector('#df-9c1501cc-2b9f-4143-b8b6-3e140f0c0425 button');\n",
              "      quickchartButtonEl.style.display =\n",
              "        google.colab.kernel.accessAllowed ? 'block' : 'none';\n",
              "    })();\n",
              "  </script>\n",
              "</div>\n",
              "\n",
              "    </div>\n",
              "  </div>\n"
            ],
            "application/vnd.google.colaboratory.intrinsic+json": {
              "type": "dataframe",
              "variable_name": "df",
              "summary": "{\n  \"name\": \"df\",\n  \"rows\": 44898,\n  \"fields\": [\n    {\n      \"column\": \"status\",\n      \"properties\": {\n        \"dtype\": \"number\",\n        \"std\": 0,\n        \"min\": 0,\n        \"max\": 1,\n        \"num_unique_values\": 2,\n        \"samples\": [\n          0,\n          1\n        ],\n        \"semantic_type\": \"\",\n        \"description\": \"\"\n      }\n    },\n    {\n      \"column\": \"target\",\n      \"properties\": {\n        \"dtype\": \"string\",\n        \"num_unique_values\": 39052,\n        \"samples\": [\n          \"militants cross afghanistan kill two soldiers army militants pakistan afghanistan killed army officer soldier military said monday neighbors important us allies accuse militants either side border two fire across tension recent years four soldiers wounded attack military post region army said say took place said believed killed fire independent possible area largely closed reporters pakistan afghanistan share border km miles afghanistan recognize border angry plan build fence along army said afghan central government side border militant attacks immediate response afghan government attack came week shot killed diplomat near eastern afghan city\",\n          \"good james director us intelligence st century wire says like cia director john large part job james national intelligence director lie american people certain threats trying real problems created us federal agencies like cia post become political one government propaganda mouth piece deep state domestic asked sen nsa type data millions hundreds millions americans lie seemed years among james propaganda campaigns directed american people greatest politically talking point date russia president vladimir putin somehow hacking us elections offering evidence back alleged claim intelligence community talking point far control probably set back relations years claimed leaked emails posted wikileaks identified associated russian intelligence even though world come realize grand conspiracy theory likely within white house dnc world would black mark credibility rest paid speaking conference career world continue cash regardless maybe number things said many mention adam adam first major resignation since donald trump electoral victory us director national intelligence james quit director national intelligence james announced resignation man us government citizens throughout world scandal one whose denied clear evidence exposed numerous constitutional violations man exit position director national intelligence welcomed everyone surveillance government cut free checks use technology privacy individuals yet individuals blow illegal activities government threatened referring specifically assange said happy resign personally share many others resignation effective days clear see eye eye boss donald replaced someone rather someone uses george rather warning could well way assange hope donald trump right election news st century wire filessupport wire subscribe become member wiretv\"\n        ],\n        \"semantic_type\": \"\",\n        \"description\": \"\"\n      }\n    }\n  ]\n}"
            }
          },
          "metadata": {},
          "execution_count": 10
        }
      ],
      "source": [
        "df.head()"
      ]
    },
    {
      "cell_type": "code",
      "execution_count": 11,
      "metadata": {
        "id": "ENRiBU00RR8U"
      },
      "outputs": [],
      "source": [
        "X = df['target']\n",
        "\n",
        "y = df['status']"
      ]
    },
    {
      "cell_type": "code",
      "execution_count": 12,
      "metadata": {
        "id": "xRNNap9NTjvU"
      },
      "outputs": [],
      "source": [
        "X_train, X_test, y_train, y_test = train_test_split(X, y, test_size=0.2, random_state=42)"
      ]
    },
    {
      "cell_type": "code",
      "execution_count": 13,
      "metadata": {
        "id": "2_Lcl2jWV6jj"
      },
      "outputs": [],
      "source": [
        "word_tokenizer = Tokenizer()\n",
        "\n",
        "word_tokenizer.fit_on_texts(X_train)"
      ]
    },
    {
      "cell_type": "code",
      "execution_count": 14,
      "metadata": {
        "id": "OvYAhhKjV-YL"
      },
      "outputs": [],
      "source": [
        "X_train = word_tokenizer.texts_to_sequences(X_train)\n",
        "\n",
        "X_test = word_tokenizer.texts_to_sequences(X_test)"
      ]
    },
    {
      "cell_type": "code",
      "execution_count": 15,
      "metadata": {
        "id": "ID2LK4ecWDM0"
      },
      "outputs": [],
      "source": [
        "vocab_length = len(word_tokenizer.word_index) + 1"
      ]
    },
    {
      "cell_type": "code",
      "execution_count": 16,
      "metadata": {
        "id": "yKk7It0lWGsT"
      },
      "outputs": [],
      "source": [
        "maxlen = 300\n",
        "\n",
        "X_train = pad_sequences(X_train, padding='post', maxlen=maxlen)\n",
        "X_test = pad_sequences(X_test, padding='post', maxlen=maxlen)"
      ]
    },
    {
      "cell_type": "code",
      "execution_count": 17,
      "metadata": {
        "id": "3At0YXMtWKds"
      },
      "outputs": [],
      "source": [
        "embeddings_dictionary = dict()\n",
        "glove_file = open('/content/drive/MyDrive/Fake_News/cleaned_glove.840B.300d.txt', encoding=\"utf8\")\n",
        "\n",
        "for line in glove_file:\n",
        "    records = line.split()\n",
        "    word = records[0]\n",
        "    vector_dimensions = np.asarray(records[1:], dtype='float32')\n",
        "    embeddings_dictionary[word] = vector_dimensions\n",
        "glove_file.close()"
      ]
    },
    {
      "cell_type": "code",
      "execution_count": 18,
      "metadata": {
        "id": "fTqPaC8YWSvc"
      },
      "outputs": [],
      "source": [
        "embedding_matrix = np.zeros((vocab_length, 300))\n",
        "for word, index in word_tokenizer.word_index.items():\n",
        "    embedding_vector = embeddings_dictionary.get(word)\n",
        "\n",
        "    if embedding_vector is not None:\n",
        "        embedding_matrix[index] = embedding_vector"
      ]
    },
    {
      "cell_type": "code",
      "execution_count": 19,
      "metadata": {
        "id": "fa-iDTuZYTik"
      },
      "outputs": [],
      "source": [
        "lstm_model = Sequential()\n",
        "embedding_layer = Embedding(vocab_length, 300, weights=[embedding_matrix], input_length=maxlen, trainable=False)"
      ]
    },
    {
      "cell_type": "code",
      "execution_count": 20,
      "metadata": {
        "id": "HCCpb1ezYW1D"
      },
      "outputs": [],
      "source": [
        "lstm_model.add(embedding_layer)\n",
        "lstm_model.add(LSTM(units=128, dropout=0.2))"
      ]
    },
    {
      "cell_type": "code",
      "execution_count": 21,
      "metadata": {
        "id": "7dAthKlwYZnM"
      },
      "outputs": [],
      "source": [
        "lstm_model.add(Dense(1, activation='sigmoid'))"
      ]
    },
    {
      "cell_type": "code",
      "source": [
        "early_stopping = EarlyStopping(monitor='val_loss', patience=10, restore_best_weights=True)"
      ],
      "metadata": {
        "id": "YrT8TX5vegDW"
      },
      "execution_count": 22,
      "outputs": []
    },
    {
      "cell_type": "code",
      "execution_count": 23,
      "metadata": {
        "colab": {
          "base_uri": "https://localhost:8080/"
        },
        "id": "yPsigESfYcas",
        "outputId": "6330a810-39d0-4d34-e5ad-e6bba0a21a52"
      },
      "outputs": [
        {
          "output_type": "stream",
          "name": "stdout",
          "text": [
            "Model: \"sequential\"\n",
            "_________________________________________________________________\n",
            " Layer (type)                Output Shape              Param #   \n",
            "=================================================================\n",
            " embedding (Embedding)       (None, 300, 300)          977700    \n",
            "                                                                 \n",
            " lstm (LSTM)                 (None, 128)               219648    \n",
            "                                                                 \n",
            " dense (Dense)               (None, 1)                 129       \n",
            "                                                                 \n",
            "=================================================================\n",
            "Total params: 1197477 (4.57 MB)\n",
            "Trainable params: 219777 (858.50 KB)\n",
            "Non-trainable params: 977700 (3.73 MB)\n",
            "_________________________________________________________________\n",
            "None\n"
          ]
        }
      ],
      "source": [
        "lstm_model.compile(optimizer='adam', loss='binary_crossentropy', metrics=['acc'])\n",
        "print(lstm_model.summary())"
      ]
    },
    {
      "cell_type": "code",
      "execution_count": 25,
      "metadata": {
        "colab": {
          "base_uri": "https://localhost:8080/"
        },
        "id": "c4bG-9rCYfKj",
        "outputId": "e7c11668-cb98-4ba6-9ee6-26c0c5f29328"
      },
      "outputs": [
        {
          "output_type": "stream",
          "name": "stdout",
          "text": [
            "Epoch 1/20\n",
            "225/225 [==============================] - 334s 1s/step - loss: 0.5621 - acc: 0.6723 - val_loss: 0.5838 - val_acc: 0.6456\n",
            "Epoch 2/20\n",
            "225/225 [==============================] - 324s 1s/step - loss: 0.5066 - acc: 0.7368 - val_loss: 0.4028 - val_acc: 0.8310\n",
            "Epoch 3/20\n",
            "225/225 [==============================] - 330s 1s/step - loss: 0.3385 - acc: 0.8823 - val_loss: 0.2800 - val_acc: 0.9120\n",
            "Epoch 4/20\n",
            "225/225 [==============================] - 337s 1s/step - loss: 0.4366 - acc: 0.7958 - val_loss: 0.3520 - val_acc: 0.9073\n",
            "Epoch 5/20\n",
            "225/225 [==============================] - 328s 1s/step - loss: 0.6007 - acc: 0.6197 - val_loss: 0.6267 - val_acc: 0.6083\n",
            "Epoch 6/20\n",
            "225/225 [==============================] - 337s 1s/step - loss: 0.6537 - acc: 0.5656 - val_loss: 0.6697 - val_acc: 0.5583\n",
            "Epoch 7/20\n",
            "225/225 [==============================] - 334s 1s/step - loss: 0.5980 - acc: 0.6507 - val_loss: 0.3210 - val_acc: 0.9049\n",
            "Epoch 8/20\n",
            "225/225 [==============================] - 335s 1s/step - loss: 0.2606 - acc: 0.9202 - val_loss: 0.1652 - val_acc: 0.9509\n",
            "Epoch 9/20\n",
            "225/225 [==============================] - 336s 1s/step - loss: 0.1417 - acc: 0.9546 - val_loss: 0.1085 - val_acc: 0.9649\n",
            "Epoch 10/20\n",
            "225/225 [==============================] - 333s 1s/step - loss: 0.0922 - acc: 0.9697 - val_loss: 0.0795 - val_acc: 0.9727\n",
            "Epoch 11/20\n",
            "225/225 [==============================] - 334s 1s/step - loss: 0.0859 - acc: 0.9722 - val_loss: 0.0665 - val_acc: 0.9786\n",
            "Epoch 12/20\n",
            "225/225 [==============================] - 333s 1s/step - loss: 0.0814 - acc: 0.9741 - val_loss: 0.0624 - val_acc: 0.9793\n",
            "Epoch 13/20\n",
            "225/225 [==============================] - 333s 1s/step - loss: 0.0674 - acc: 0.9789 - val_loss: 0.0659 - val_acc: 0.9805\n",
            "Epoch 14/20\n",
            "225/225 [==============================] - 329s 1s/step - loss: 0.0507 - acc: 0.9841 - val_loss: 0.0615 - val_acc: 0.9765\n",
            "Epoch 15/20\n",
            "225/225 [==============================] - 329s 1s/step - loss: 0.0467 - acc: 0.9855 - val_loss: 0.0528 - val_acc: 0.9833\n",
            "Epoch 16/20\n",
            "225/225 [==============================] - 325s 1s/step - loss: 0.0393 - acc: 0.9869 - val_loss: 0.0482 - val_acc: 0.9841\n",
            "Epoch 17/20\n",
            "225/225 [==============================] - 330s 1s/step - loss: 0.0470 - acc: 0.9847 - val_loss: 0.0474 - val_acc: 0.9847\n",
            "Epoch 18/20\n",
            "225/225 [==============================] - 328s 1s/step - loss: 0.0316 - acc: 0.9905 - val_loss: 0.0453 - val_acc: 0.9854\n",
            "Epoch 19/20\n",
            "225/225 [==============================] - 326s 1s/step - loss: 0.0241 - acc: 0.9929 - val_loss: 0.0418 - val_acc: 0.9864\n",
            "Epoch 20/20\n",
            "225/225 [==============================] - 329s 1s/step - loss: 0.0231 - acc: 0.9930 - val_loss: 0.0408 - val_acc: 0.9866\n"
          ]
        }
      ],
      "source": [
        "lstm_model_history = lstm_model.fit(X_train, y_train, batch_size=128, epochs=20, verbose=1, validation_split=0.2, callbacks=[early_stopping])"
      ]
    },
    {
      "cell_type": "code",
      "source": [
        "# Eğitim ve doğrulama kaybı\n",
        "train_loss = lstm_model_history.history['loss']\n",
        "val_loss = lstm_model_history.history['val_loss']\n",
        "\n",
        "# En iyi epoch değerini bulma\n",
        "best_epoch = np.argmin(val_loss) + 1  # +1 çünkü argmin 0'dan başlar, ancak epoch 1'den başlar\n",
        "\n",
        "# Grafiği oluşturma\n",
        "plt.plot(train_loss, label='Training Loss')\n",
        "plt.plot(val_loss, label='Validation Loss')\n",
        "plt.scatter(best_epoch - 1, val_loss[best_epoch - 1], color='red', label='Best Epoch')\n",
        "plt.xlabel('Epochs')\n",
        "plt.ylabel('Loss')\n",
        "plt.title('Training and Validation Loss')\n",
        "plt.legend()\n",
        "plt.show()\n",
        "\n",
        "print(\"En iyi epoch değeri:\", best_epoch)"
      ],
      "metadata": {
        "colab": {
          "base_uri": "https://localhost:8080/",
          "height": 489
        },
        "id": "ynYHvhs-duoF",
        "outputId": "9524ac2b-dee9-49e5-b404-0d5f03ea6dc1"
      },
      "execution_count": 27,
      "outputs": [
        {
          "output_type": "display_data",
          "data": {
            "text/plain": [
              "<Figure size 640x480 with 1 Axes>"
            ],
            "image/png": "[encoded data removed]"
          },
          "metadata": {}
        },
        {
          "output_type": "stream",
          "name": "stdout",
          "text": [
            "En iyi epoch değeri: 20\n"
          ]
        }
      ]
    }
  ],
  "metadata": {
    "colab": {
      "provenance": []
    },
    "kernelspec": {
      "display_name": "Python 3",
      "name": "python3"
    },
    "language_info": {
      "name": "python"
    }
  },
  "nbformat": 4,
  "nbformat_minor": 0
}